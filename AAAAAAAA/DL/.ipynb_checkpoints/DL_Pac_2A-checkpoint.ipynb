{
 "cells": [
  {
   "cell_type": "code",
   "execution_count": 2,
   "id": "656b9b6d",
   "metadata": {},
   "outputs": [],
   "source": [
    "import numpy as np\n",
    "import pandas as pd\n",
    "from sklearn.model_selection import train_test_split\n",
    "from tensorflow.keras.models import Sequential\n",
    "from tensorflow.keras.layers import Dense, Dropout\n",
    "from tensorflow.keras.optimizers import RMSprop"
   ]
  },
  {
   "cell_type": "code",
   "execution_count": 3,
   "id": "13fa5772",
   "metadata": {},
   "outputs": [],
   "source": [
    "# Load the OCR letter recognition dataset\n",
    "data_file = \"letter-recognition.data\"\n",
    "column_names = ['Letter', 'x-box', 'y-box', 'width', 'high', 'onpix', 'x-bar', 'y-bar', 'x2bar', 'y2bar', 'xybar', 'x2ybr', 'xy2br', 'x-ege', 'xegvy', 'y-ege', 'yegvx']\n",
    "data = pd.read_csv(data_file, header=None, names=column_names)"
   ]
  },
  {
   "cell_type": "code",
   "execution_count": 4,
   "id": "6067f851",
   "metadata": {},
   "outputs": [],
   "source": [
    "# Split features and labels\n",
    "X = data.drop('Letter', axis=1)\n",
    "y = data['Letter']\n",
    "\n",
    "# Convert letters to numerical labels\n",
    "y = y.astype('category').cat.codes"
   ]
  },
  {
   "cell_type": "code",
   "execution_count": 5,
   "id": "9f5e6dcf",
   "metadata": {},
   "outputs": [],
   "source": [
    "# Split data into train and test sets\n",
    "x_train, x_test, y_train, y_test = train_test_split(X, y, test_size=0.2, random_state=42)"
   ]
  },
  {
   "cell_type": "code",
   "execution_count": 6,
   "id": "54989eb5",
   "metadata": {},
   "outputs": [],
   "source": [
    "# Model definition\n",
    "model = Sequential([\n",
    "    Dense(512, activation='relu', input_shape=(16,)),\n",
    "    Dropout(0.2),\n",
    "    Dense(512, activation='relu'),\n",
    "    Dropout(0.2),\n",
    "    Dense(26, activation='softmax')  # Output layer with 26 units for 26 classes\n",
    "])"
   ]
  },
  {
   "cell_type": "code",
   "execution_count": 7,
   "id": "0e69908b",
   "metadata": {},
   "outputs": [],
   "source": [
    "# Compile the model\n",
    "model.compile(loss='sparse_categorical_crossentropy',  # Use 'sparse_categorical_crossentropy' since labels are integers\n",
    "              optimizer=RMSprop(),\n",
    "              metrics=['accuracy'])"
   ]
  },
  {
   "cell_type": "code",
   "execution_count": 8,
   "id": "b2c620a4",
   "metadata": {},
   "outputs": [
    {
     "name": "stdout",
     "output_type": "stream",
     "text": [
      "Epoch 1/20\n",
      "125/125 [==============================] - 2s 12ms/step - loss: 1.6646 - accuracy: 0.5144 - val_loss: 0.9099 - val_accuracy: 0.7412\n",
      "Epoch 2/20\n",
      "125/125 [==============================] - 1s 10ms/step - loss: 0.8898 - accuracy: 0.7212 - val_loss: 0.6177 - val_accuracy: 0.8175\n",
      "Epoch 3/20\n",
      "125/125 [==============================] - 1s 11ms/step - loss: 0.6736 - accuracy: 0.7877 - val_loss: 0.4891 - val_accuracy: 0.8482\n",
      "Epoch 4/20\n",
      "125/125 [==============================] - 1s 11ms/step - loss: 0.5488 - accuracy: 0.8275 - val_loss: 0.4236 - val_accuracy: 0.8810\n",
      "Epoch 5/20\n",
      "125/125 [==============================] - 2s 13ms/step - loss: 0.4607 - accuracy: 0.8572 - val_loss: 0.3196 - val_accuracy: 0.9128\n",
      "Epoch 6/20\n",
      "125/125 [==============================] - 2s 12ms/step - loss: 0.3987 - accuracy: 0.8717 - val_loss: 0.3088 - val_accuracy: 0.9000\n",
      "Epoch 7/20\n",
      "125/125 [==============================] - 1s 11ms/step - loss: 0.3607 - accuracy: 0.8844 - val_loss: 0.2764 - val_accuracy: 0.9143\n",
      "Epoch 8/20\n",
      "125/125 [==============================] - 1s 11ms/step - loss: 0.3218 - accuracy: 0.8945 - val_loss: 0.2607 - val_accuracy: 0.9145\n",
      "Epoch 9/20\n",
      "125/125 [==============================] - 1s 12ms/step - loss: 0.2979 - accuracy: 0.9022 - val_loss: 0.2574 - val_accuracy: 0.9172\n",
      "Epoch 10/20\n",
      "125/125 [==============================] - 1s 11ms/step - loss: 0.2708 - accuracy: 0.9101 - val_loss: 0.2104 - val_accuracy: 0.9370\n",
      "Epoch 11/20\n",
      "125/125 [==============================] - 1s 11ms/step - loss: 0.2460 - accuracy: 0.9194 - val_loss: 0.2004 - val_accuracy: 0.9345\n",
      "Epoch 12/20\n",
      "125/125 [==============================] - 2s 12ms/step - loss: 0.2440 - accuracy: 0.9185 - val_loss: 0.1769 - val_accuracy: 0.9467\n",
      "Epoch 13/20\n",
      "125/125 [==============================] - 1s 11ms/step - loss: 0.2209 - accuracy: 0.9270 - val_loss: 0.2061 - val_accuracy: 0.9337\n",
      "Epoch 14/20\n",
      "125/125 [==============================] - 1s 11ms/step - loss: 0.2159 - accuracy: 0.9277 - val_loss: 0.1931 - val_accuracy: 0.9352\n",
      "Epoch 15/20\n",
      "125/125 [==============================] - 1s 11ms/step - loss: 0.2021 - accuracy: 0.9313 - val_loss: 0.1739 - val_accuracy: 0.9430\n",
      "Epoch 16/20\n",
      "125/125 [==============================] - 1s 12ms/step - loss: 0.1925 - accuracy: 0.9379 - val_loss: 0.1809 - val_accuracy: 0.9398\n",
      "Epoch 17/20\n",
      "125/125 [==============================] - 1s 11ms/step - loss: 0.1850 - accuracy: 0.9386 - val_loss: 0.1758 - val_accuracy: 0.9410\n",
      "Epoch 18/20\n",
      "125/125 [==============================] - 1s 11ms/step - loss: 0.1812 - accuracy: 0.9386 - val_loss: 0.1227 - val_accuracy: 0.9610\n",
      "Epoch 19/20\n",
      "125/125 [==============================] - 1s 11ms/step - loss: 0.1677 - accuracy: 0.9412 - val_loss: 0.1396 - val_accuracy: 0.9540\n",
      "Epoch 20/20\n",
      "125/125 [==============================] - 2s 12ms/step - loss: 0.1669 - accuracy: 0.9430 - val_loss: 0.1383 - val_accuracy: 0.9523\n"
     ]
    }
   ],
   "source": [
    "# Train the model\n",
    "history = model.fit(x_train, y_train,\n",
    "                    batch_size=128,\n",
    "                    epochs=20,\n",
    "                    validation_data=(x_test, y_test),\n",
    "                    verbose=1)"
   ]
  },
  {
   "cell_type": "code",
   "execution_count": 9,
   "id": "06f16982",
   "metadata": {},
   "outputs": [
    {
     "name": "stdout",
     "output_type": "stream",
     "text": [
      "Test loss: 0.13829649984836578\n",
      "Test accuracy: 0.9522500038146973\n"
     ]
    }
   ],
   "source": [
    "# Evaluate the model\n",
    "score = model.evaluate(x_test, y_test, verbose=0)\n",
    "\n",
    "# Print the test loss and accuracy\n",
    "print('Test loss:', score[0])\n",
    "print('Test accuracy:', score[1])"
   ]
  },
  {
   "cell_type": "code",
   "execution_count": null,
   "id": "67d0e062",
   "metadata": {},
   "outputs": [],
   "source": []
  }
 ],
 "metadata": {
  "kernelspec": {
   "display_name": "Python 3 (ipykernel)",
   "language": "python",
   "name": "python3"
  },
  "language_info": {
   "codemirror_mode": {
    "name": "ipython",
    "version": 3
   },
   "file_extension": ".py",
   "mimetype": "text/x-python",
   "name": "python",
   "nbconvert_exporter": "python",
   "pygments_lexer": "ipython3",
   "version": "3.11.2"
  }
 },
 "nbformat": 4,
 "nbformat_minor": 5
}
